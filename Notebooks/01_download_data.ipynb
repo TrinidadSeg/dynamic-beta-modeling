{
 "cells": [
  {
   "cell_type": "markdown",
   "id": "7ca2689a",
   "metadata": {},
   "source": [
    "When it comes to determining the beta discrepancy of different markets, we must first determine our sample and based on which characteristics, for this we will use Yahoo Finance's categories for S&P500 companies"
   ]
  },
  {
   "cell_type": "code",
   "execution_count": null,
   "id": "338f92c4",
   "metadata": {},
   "outputs": [],
   "source": [
    "import sys, os\n",
    "import pandas as pd\n",
    "import numpy as np\n",
    "import ipywidgets as widgets\n",
    "import seaborn as sns\n",
    "sys.path.append(os.path.abspath(os.path.join('..')))\n",
    "from src.data_loader import get_sp_data, download_and_save_prices"
   ]
  },
  {
   "cell_type": "code",
   "execution_count": null,
   "id": "7996923c",
   "metadata": {},
   "outputs": [
    {
     "name": "stderr",
     "output_type": "stream",
     "text": [
      "[*********************100%***********************]  5 of 5 completed"
     ]
    },
    {
     "name": "stdout",
     "output_type": "stream",
     "text": [
      "Data saved to c:\\Users\\tsego\\OneDrive\\Desktop\\Programming\\BetaVariationAnalysis\\dynamic-beta-modeling\\Data\\Raw\\new2.csv\n"
     ]
    },
    {
     "name": "stderr",
     "output_type": "stream",
     "text": [
      "\n"
     ]
    }
   ],
   "source": [
    "from src.data_loader import download_and_save_prices\n",
    "tickers = ['AAPL', 'GOOGL', 'MSFT', 'AMZN', 'TSLA']\n",
    "download_and_save_prices(tickers, '2020-01-01', '2023-01-01', file_format='csv', filename='new2')"
   ]
  }
 ],
 "metadata": {
  "kernelspec": {
   "display_name": "base",
   "language": "python",
   "name": "python3"
  },
  "language_info": {
   "codemirror_mode": {
    "name": "ipython",
    "version": 3
   },
   "file_extension": ".py",
   "mimetype": "text/x-python",
   "name": "python",
   "nbconvert_exporter": "python",
   "pygments_lexer": "ipython3",
   "version": "3.12.7"
  }
 },
 "nbformat": 4,
 "nbformat_minor": 5
}
