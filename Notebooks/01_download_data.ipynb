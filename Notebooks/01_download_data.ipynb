{
 "cells": [
  {
   "cell_type": "markdown",
   "id": "7ca2689a",
   "metadata": {},
   "source": [
    "When it comes to determining the beta discrepancy of different markets, we must first determine our sample and based on which characteristics, for this we will use Yahoo Finance's categories for S&P500 companies"
   ]
  },
  {
   "cell_type": "code",
   "execution_count": 1,
   "id": "338f92c4",
   "metadata": {},
   "outputs": [
    {
     "name": "stdout",
     "output_type": "stream",
     "text": [
      "Unique Sectors: ['Industrials' 'Health Care' 'Information Technology' 'Utilities'\n",
      " 'Financials' 'Materials' 'Consumer Discretionary' 'Real Estate'\n",
      " 'Communication Services' 'Consumer Staples' 'Energy']\n"
     ]
    }
   ],
   "source": [
    "import sys, os\n",
    "\n",
    "sys.path.append(os.path.abspath(os.path.join('..')))\n",
    "from src.data_loader import get_sp_data, download_and_save_prices\n",
    "data= get_sp_data()\n",
    "unique_sectors = data['GICS Sector'].unique()\n",
    "print(\"Unique Sectors:\", unique_sectors)\n",
    "sector_tickers = {}\n",
    "for sector in unique_sectors:\n",
    "    sector_rows = data[data['GICS Sector']== sector]\n",
    "    tickers_list = sector_rows['Symbol'].tolist()\n",
    "    sector_tickers[sector] = tickers_list"
   ]
  },
  {
   "cell_type": "code",
   "execution_count": 2,
   "id": "5dd9bd40",
   "metadata": {},
   "outputs": [
    {
     "name": "stderr",
     "output_type": "stream",
     "text": [
      "[*********************100%***********************]  78 of 78 completed\n"
     ]
    },
    {
     "name": "stdout",
     "output_type": "stream",
     "text": [
      "Data saved to c:\\Users\\tsego\\OneDrive\\Desktop\\Programming\\BetaVariationAnalysis\\dynamic-beta-modeling\\Data\\Industrials_tickers.parquet\n"
     ]
    },
    {
     "name": "stderr",
     "output_type": "stream",
     "text": [
      "[*********************100%***********************]  60 of 60 completed\n"
     ]
    },
    {
     "name": "stdout",
     "output_type": "stream",
     "text": [
      "Data saved to c:\\Users\\tsego\\OneDrive\\Desktop\\Programming\\BetaVariationAnalysis\\dynamic-beta-modeling\\Data\\Health_Care_tickers.parquet\n"
     ]
    },
    {
     "name": "stderr",
     "output_type": "stream",
     "text": [
      "[*********************100%***********************]  68 of 68 completed\n"
     ]
    },
    {
     "name": "stdout",
     "output_type": "stream",
     "text": [
      "Data saved to c:\\Users\\tsego\\OneDrive\\Desktop\\Programming\\BetaVariationAnalysis\\dynamic-beta-modeling\\Data\\Information_Technology_tickers.parquet\n"
     ]
    },
    {
     "name": "stderr",
     "output_type": "stream",
     "text": [
      "[*********************100%***********************]  31 of 31 completed\n"
     ]
    },
    {
     "name": "stdout",
     "output_type": "stream",
     "text": [
      "Data saved to c:\\Users\\tsego\\OneDrive\\Desktop\\Programming\\BetaVariationAnalysis\\dynamic-beta-modeling\\Data\\Utilities_tickers.parquet\n"
     ]
    },
    {
     "name": "stderr",
     "output_type": "stream",
     "text": [
      "[*********************100%***********************]  74 of 74 completed\n",
      "\n",
      "1 Failed download:\n",
      "['BRK.B']: YFTzMissingError('possibly delisted; no timezone found')\n"
     ]
    },
    {
     "name": "stdout",
     "output_type": "stream",
     "text": [
      "Data saved to c:\\Users\\tsego\\OneDrive\\Desktop\\Programming\\BetaVariationAnalysis\\dynamic-beta-modeling\\Data\\Financials_tickers.parquet\n"
     ]
    },
    {
     "name": "stderr",
     "output_type": "stream",
     "text": [
      "[*********************100%***********************]  26 of 26 completed\n"
     ]
    },
    {
     "name": "stdout",
     "output_type": "stream",
     "text": [
      "Data saved to c:\\Users\\tsego\\OneDrive\\Desktop\\Programming\\BetaVariationAnalysis\\dynamic-beta-modeling\\Data\\Materials_tickers.parquet\n"
     ]
    },
    {
     "name": "stderr",
     "output_type": "stream",
     "text": [
      "[*********************100%***********************]  51 of 51 completed\n"
     ]
    },
    {
     "name": "stdout",
     "output_type": "stream",
     "text": [
      "Data saved to c:\\Users\\tsego\\OneDrive\\Desktop\\Programming\\BetaVariationAnalysis\\dynamic-beta-modeling\\Data\\Consumer_Discretionary_tickers.parquet\n"
     ]
    },
    {
     "name": "stderr",
     "output_type": "stream",
     "text": [
      "[*********************100%***********************]  31 of 31 completed\n"
     ]
    },
    {
     "name": "stdout",
     "output_type": "stream",
     "text": [
      "Data saved to c:\\Users\\tsego\\OneDrive\\Desktop\\Programming\\BetaVariationAnalysis\\dynamic-beta-modeling\\Data\\Real_Estate_tickers.parquet\n"
     ]
    },
    {
     "name": "stderr",
     "output_type": "stream",
     "text": [
      "[*********************100%***********************]  24 of 24 completed\n"
     ]
    },
    {
     "name": "stdout",
     "output_type": "stream",
     "text": [
      "Data saved to c:\\Users\\tsego\\OneDrive\\Desktop\\Programming\\BetaVariationAnalysis\\dynamic-beta-modeling\\Data\\Communication_Services_tickers.parquet\n"
     ]
    },
    {
     "name": "stderr",
     "output_type": "stream",
     "text": [
      "[*********************100%***********************]  38 of 38 completed\n",
      "\n",
      "1 Failed download:\n",
      "['BF.B']: YFPricesMissingError('possibly delisted; no price data found  (1d 2020-01-01 -> 2025-01-01)')\n"
     ]
    },
    {
     "name": "stdout",
     "output_type": "stream",
     "text": [
      "Data saved to c:\\Users\\tsego\\OneDrive\\Desktop\\Programming\\BetaVariationAnalysis\\dynamic-beta-modeling\\Data\\Consumer_Staples_tickers.parquet\n"
     ]
    },
    {
     "name": "stderr",
     "output_type": "stream",
     "text": [
      "[*********************100%***********************]  22 of 22 completed"
     ]
    },
    {
     "name": "stdout",
     "output_type": "stream",
     "text": [
      "Data saved to c:\\Users\\tsego\\OneDrive\\Desktop\\Programming\\BetaVariationAnalysis\\dynamic-beta-modeling\\Data\\Energy_tickers.parquet\n"
     ]
    },
    {
     "name": "stderr",
     "output_type": "stream",
     "text": [
      "\n"
     ]
    }
   ],
   "source": [
    "for sector in unique_sectors:\n",
    "    file_name = f\"{sector.replace(' ', '_')}_tickers\"\n",
    "    download_and_save_prices(sector_tickers[sector], '2020-01-01', '2025-01-01', filename=file_name)"
   ]
  }
 ],
 "metadata": {
  "kernelspec": {
   "display_name": "base",
   "language": "python",
   "name": "python3"
  },
  "language_info": {
   "codemirror_mode": {
    "name": "ipython",
    "version": 3
   },
   "file_extension": ".py",
   "mimetype": "text/x-python",
   "name": "python",
   "nbconvert_exporter": "python",
   "pygments_lexer": "ipython3",
   "version": "3.12.7"
  }
 },
 "nbformat": 4,
 "nbformat_minor": 5
}
